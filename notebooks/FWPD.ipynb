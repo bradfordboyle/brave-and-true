{
 "cells": [
  {
   "cell_type": "code",
   "execution_count": 1,
   "metadata": {},
   "outputs": [
    {
     "data": {
      "text/plain": [
       "{[com.rpl/specter \"1.0.4\" :exclusions [[org.clojure/clojure] [org.clojure/clojurescript]]] #{[riddley \"0.1.12\"]}, [mvxcvi/puget \"1.0.2\" :exclusions [[org.clojure/clojure]]] #{[mvxcvi/arrangement \"1.1.1\"] [fipp \"0.6.10\"]}, [mvxcvi/arrangement \"1.1.1\"] nil, [colorize \"0.1.1\" :exclusions [[org.clojure/clojure]]] nil, [org.clojure/tools.macro \"0.1.5\"] nil, [potemkin \"0.4.3\" :exclusions [[org.clojure/clojure]]] #{[clj-tuple \"0.2.2\"]}, [org.clojars.brenton/google-diff-match-patch \"0.1\"] nil, [swiss-arrows \"1.0.0\" :exclusions [[org.clojure/clojure]]] nil, [flare \"0.2.9\" :exclusions [[org.clojure/clojure]]] #{[org.clojars.brenton/google-diff-match-patch \"0.1\"]}, [org.tcrawley/dynapath \"1.0.0\"] nil, [marick/clojure-commons \"3.0.0\" :exclusions [[org.clojure/clojure]]] nil, [org.clojure/clojure \"1.9.0\"] #{[org.clojure/core.specs.alpha \"0.1.24\"] [org.clojure/spec.alpha \"0.1.143\"]}, [io.aviso/pretty \"0.1.34\"] nil, [org.clojure/math.combinatorics \"0.1.4\"] nil, [clj-time \"0.14.2\" :exclusions [[org.clojure/clojure]]] #{[joda-time \"2.9.7\"]}, [clj-tuple \"0.2.2\"] nil, [environ \"1.1.0\" :exclusions [[org.clojure/clojure]]] nil, [org.clojure/test.check \"0.9.0\"] nil, [org.clojure/core.specs.alpha \"0.1.24\"] nil, [org.clojure/tools.namespace \"0.2.11\"] nil, [joda-time \"2.9.7\"] nil, [midje \"1.9.1\"] #{[com.rpl/specter \"1.0.4\" :exclusions [[org.clojure/clojure] [org.clojure/clojurescript]]] [mvxcvi/puget \"1.0.2\" :exclusions [[org.clojure/clojure]]] [colorize \"0.1.1\" :exclusions [[org.clojure/clojure]]] [org.clojure/tools.macro \"0.1.5\"] [swiss-arrows \"1.0.0\" :exclusions [[org.clojure/clojure]]] [flare \"0.2.9\" :exclusions [[org.clojure/clojure]]] [org.tcrawley/dynapath \"1.0.0\"] [marick/clojure-commons \"3.0.0\" :exclusions [[org.clojure/clojure]]] [org.clojure/clojure \"1.9.0\"] [io.aviso/pretty \"0.1.34\"] [org.clojure/math.combinatorics \"0.1.4\"] [clj-time \"0.14.2\" :exclusions [[org.clojure/clojure]]] [org.clojure/test.check \"0.9.0\"] [org.clojure/tools.namespace \"0.2.11\"] [org.clojure/core.unify \"0.5.7\" :exclusions [[org.clojure/clojure]]] [slingshot \"0.12.2\"] [marick/suchwow \"6.0.0\" :exclusions [[org.clojure/clojure] [org.clojure/clojurescript]]]}, [fipp \"0.6.10\"] #{[org.clojure/core.rrb-vector \"0.0.11\"]}, [org.clojure/core.unify \"0.5.7\" :exclusions [[org.clojure/clojure]]] nil, [riddley \"0.1.12\"] nil, [org.clojure/core.rrb-vector \"0.0.11\"] nil, [slingshot \"0.12.2\"] nil, [marick/suchwow \"6.0.0\" :exclusions [[org.clojure/clojure] [org.clojure/clojurescript]]] #{[potemkin \"0.4.3\" :exclusions [[org.clojure/clojure]]] [environ \"1.1.0\" :exclusions [[org.clojure/clojure]]] [commons-codec \"1.10\"]}, [commons-codec \"1.10\"] nil, [org.clojure/spec.alpha \"0.1.143\"] nil}"
      ]
     },
     "execution_count": 1,
     "metadata": {},
     "output_type": "execute_result"
    }
   ],
   "source": [
    "(require '[clojupyter.misc.helper :as helper])\n",
    "(helper/add-dependencies '[midje \"1.9.1\"])"
   ]
  },
  {
   "cell_type": "code",
   "execution_count": 2,
   "metadata": {},
   "outputs": [
    {
     "name": "stdout",
     "output_type": "stream",
     "text": [
      "\u001b[36mRun `(doc midje)` for Midje usage.\u001b[0m\n",
      "\u001b[36mRun `(doc midje-repl)` for descriptions of Midje repl functions.\u001b[0m\n"
     ]
    }
   ],
   "source": [
    "(use 'clojure.pprint)\n",
    "(use 'midje.repl)"
   ]
  },
  {
   "cell_type": "markdown",
   "metadata": {},
   "source": [
    "## A Vampire Data Analysis Program for the FWPD"
   ]
  },
  {
   "cell_type": "code",
   "execution_count": 3,
   "metadata": {},
   "outputs": [
    {
     "data": {
      "text/plain": [
       "#'user/filename"
      ]
     },
     "execution_count": 3,
     "metadata": {},
     "output_type": "execute_result"
    }
   ],
   "source": [
    "(def filename \"resources/suspects.csv\")"
   ]
  },
  {
   "cell_type": "code",
   "execution_count": 4,
   "metadata": {},
   "outputs": [
    {
     "name": "stdout",
     "output_type": "stream",
     "text": [
      "\"Edward Cullen,10\\nBella Swan,0\\nCharlie Swan,0\\nJacob Black,3\\nCarlisle Cullen,6\\n\"\n"
     ]
    }
   ],
   "source": [
    "(pprint (slurp filename))"
   ]
  },
  {
   "cell_type": "code",
   "execution_count": 5,
   "metadata": {},
   "outputs": [
    {
     "data": {
      "text/plain": [
       "#'user/convert"
      ]
     },
     "execution_count": 5,
     "metadata": {},
     "output_type": "execute_result"
    }
   ],
   "source": [
    "; vector of keys used to create maps\n",
    "(def vamp-keys [:name :glitter-index])\n",
    "\n",
    "(defn str->int\n",
    "    [str]\n",
    "    (Integer/parseInt str))\n",
    "\n",
    "; associate conversion function with each key\n",
    "(def conversions {:name identity\n",
    "                  :glitter-index str->int})\n",
    "; takes a key and a value, and returns a converted value\n",
    "(defn convert\n",
    "    [vamp-key value]\n",
    "    ((get conversions vamp-key) value))"
   ]
  },
  {
   "cell_type": "code",
   "execution_count": 6,
   "metadata": {},
   "outputs": [
    {
     "data": {
      "text/plain": [
       "3"
      ]
     },
     "execution_count": 6,
     "metadata": {},
     "output_type": "execute_result"
    }
   ],
   "source": [
    "(convert :glitter-index \"3\")"
   ]
  },
  {
   "cell_type": "code",
   "execution_count": 7,
   "metadata": {},
   "outputs": [
    {
     "data": {
      "text/plain": [
       "#'user/parse"
      ]
     },
     "execution_count": 7,
     "metadata": {},
     "output_type": "execute_result"
    }
   ],
   "source": [
    "(defn parse\n",
    "    \"Convert a CSV into rows of columns\"\n",
    "    [string]\n",
    "    (map #(clojure.string/split % #\",\")\n",
    "         (clojure.string/split string #\"\\n\")))"
   ]
  },
  {
   "cell_type": "code",
   "execution_count": 8,
   "metadata": {},
   "outputs": [
    {
     "name": "stdout",
     "output_type": "stream",
     "text": [
      "([\"Edward Cullen\" \"10\"]\n",
      " [\"Bella Swan\" \"0\"]\n",
      " [\"Charlie Swan\" \"0\"]\n",
      " [\"Jacob Black\" \"3\"]\n",
      " [\"Carlisle Cullen\" \"6\"])\n"
     ]
    }
   ],
   "source": [
    "(pprint (parse (slurp filename)))"
   ]
  },
  {
   "cell_type": "code",
   "execution_count": 9,
   "metadata": {},
   "outputs": [
    {
     "data": {
      "text/plain": [
       "#'user/mapify"
      ]
     },
     "execution_count": 9,
     "metadata": {},
     "output_type": "execute_result"
    }
   ],
   "source": [
    "(defn mapify\n",
    "    \"Return a seq of maps like {:name \\\"Edward Cullen\\\" :glitter-index 10}\"\n",
    "    [rows]\n",
    "    (map (fn [unmapped-row]\n",
    "             (reduce (fn [row-map [vamp-key value]]\n",
    "                         (assoc row-map vamp-key (convert vamp-key value)))\n",
    "                     {}\n",
    "                     ; zip the keys with the cols in the row\n",
    "                     (map vector vamp-keys unmapped-row)))\n",
    "         rows))\n"
   ]
  },
  {
   "cell_type": "code",
   "execution_count": 10,
   "metadata": {},
   "outputs": [
    {
     "data": {
      "text/plain": [
       "{:name \"Edward Cullen\", :glitter-index 10}"
      ]
     },
     "execution_count": 10,
     "metadata": {},
     "output_type": "execute_result"
    }
   ],
   "source": [
    "(first (mapify (parse (slurp filename))))"
   ]
  },
  {
   "cell_type": "code",
   "execution_count": 11,
   "metadata": {},
   "outputs": [
    {
     "data": {
      "text/plain": [
       "#'user/glitter-filter"
      ]
     },
     "execution_count": 11,
     "metadata": {},
     "output_type": "execute_result"
    }
   ],
   "source": [
    "(defn glitter-filter\n",
    "    [minimum-glitter records]\n",
    "    (filter #(>= (:glitter-index %) minimum-glitter) records))"
   ]
  },
  {
   "cell_type": "code",
   "execution_count": 12,
   "metadata": {},
   "outputs": [
    {
     "name": "stdout",
     "output_type": "stream",
     "text": [
      "({:name \"Edward Cullen\", :glitter-index 10}\n",
      " {:name \"Jacob Black\", :glitter-index 3}\n",
      " {:name \"Carlisle Cullen\", :glitter-index 6})\n"
     ]
    }
   ],
   "source": [
    "(def result (glitter-filter 3 (mapify (parse (slurp filename)))))\n",
    "(pprint result)"
   ]
  },
  {
   "cell_type": "markdown",
   "metadata": {},
   "source": [
    "## Exercises"
   ]
  },
  {
   "cell_type": "markdown",
   "metadata": {},
   "source": [
    "### Exercise 1\n",
    "Turn the result of your glitter filter into a list of names."
   ]
  },
  {
   "cell_type": "code",
   "execution_count": 13,
   "metadata": {},
   "outputs": [
    {
     "name": "stdout",
     "output_type": "stream",
     "text": [
      "\n",
      "\u001b[31mFAIL\u001b[0m at (core.clj:3)\n",
      "Expected:\n",
      "\u001b[1;31m(\u001b[0m\u001b[1;35m\"Edward Cullen\"\u001b[0m \u001b[1;35m\"Jacob Black\"\u001b[0m \u001b[1;35m\"Carlisle Cullen\"\u001b[0m\u001b[1;31m)\u001b[0m\n",
      "Actual:\n",
      "\u001b[1;31m(\u001b[0m\u001b[1;31m)\u001b[0m\n",
      "Diffs: expected length of sequence is 3, actual length is 0.\n",
      "                actual is missing 3 elements: (\"Edward Cullen\" \"Jacob Black\" \"Carlisle Cullen\")\n"
     ]
    },
    {
     "data": {
      "text/plain": [
       "false"
      ]
     },
     "execution_count": 13,
     "metadata": {},
     "output_type": "execute_result"
    }
   ],
   "source": [
    "(defn suspect-names [suspects]\n",
    "    '())\n",
    "(fact (suspect-names result) => '(\"Edward Cullen\" \"Jacob Black\" \"Carlisle Cullen\"))"
   ]
  },
  {
   "cell_type": "markdown",
   "metadata": {},
   "source": [
    "### Exercise 2\n",
    "Write a function, `append`, which will append a new suspect to your list of suspects."
   ]
  },
  {
   "cell_type": "code",
   "execution_count": 14,
   "metadata": {},
   "outputs": [
    {
     "name": "stdout",
     "output_type": "stream",
     "text": [
      "\n",
      "\u001b[31mFAIL\u001b[0m \"about append - it can append to a list of vectors\" at (core.clj:10)\n",
      "Expected:\n",
      "\u001b[1;31m(\u001b[0m\u001b[1;31m[\u001b[0m\u001b[1;35m\"Edward Cullen\"\u001b[0m \u001b[1;35m\"10\"\u001b[0m\u001b[1;31m]\u001b[0m\n",
      "\u001b[1;31m [\u001b[0m\u001b[1;35m\"Bella Swan\"\u001b[0m \u001b[1;35m\"0\"\u001b[0m\u001b[1;31m]\u001b[0m\n",
      "\u001b[1;31m [\u001b[0m\u001b[1;35m\"Charlie Swan\"\u001b[0m \u001b[1;35m\"0\"\u001b[0m\u001b[1;31m]\u001b[0m\n",
      "\u001b[1;31m [\u001b[0m\u001b[1;35m\"Jacob Black\"\u001b[0m \u001b[1;35m\"3\"\u001b[0m\u001b[1;31m]\u001b[0m\n",
      "\u001b[1;31m [\u001b[0m\u001b[1;35m\"Carlisle Cullen\"\u001b[0m \u001b[1;35m\"6\"\u001b[0m\u001b[1;31m]\u001b[0m\n",
      "\u001b[1;31m [\u001b[0m\u001b[1;35m\"Alice Cullen\"\u001b[0m \u001b[1;35m\"7\"\u001b[0m\u001b[1;31m]\u001b[0m\u001b[1;31m)\u001b[0m\n",
      "Actual:\n",
      "\u001b[1;31m(\u001b[0m\u001b[1;31m)\u001b[0m\n",
      "Diffs: expected length of sequence is 6, actual length is 0.\n",
      "                actual is missing 6 elements: ([\"Edward Cullen\" \"10\"] [\"Bella Swan\" \"0\"] [\"Charlie Swan\" \"0\"] [\"Jacob Black\" \"3\"] [\"Carlisle Cullen\" \"6\"] [\"Alice Cullen\" \"7\"])\n",
      "\n",
      "\u001b[31mFAIL\u001b[0m \"about append - it can append to a list of maps\" at (core.clj:19)\n",
      "Expected:\n",
      "\u001b[1;31m(\u001b[0m\u001b[1;31m{\u001b[0m\u001b[1;33m:glitter-index\u001b[0m \u001b[36m10\u001b[0m \u001b[1;33m:name\u001b[0m \u001b[1;35m\"Edward Cullen\"\u001b[0m\u001b[1;31m}\u001b[0m\n",
      "\u001b[1;31m {\u001b[0m\u001b[1;33m:glitter-index\u001b[0m \u001b[36m0\u001b[0m \u001b[1;33m:name\u001b[0m \u001b[1;35m\"Bella Swan\"\u001b[0m\u001b[1;31m}\u001b[0m\n",
      "\u001b[1;31m {\u001b[0m\u001b[1;33m:glitter-index\u001b[0m \u001b[36m0\u001b[0m \u001b[1;33m:name\u001b[0m \u001b[1;35m\"Charlie Swan\"\u001b[0m\u001b[1;31m}\u001b[0m\n",
      "\u001b[1;31m {\u001b[0m\u001b[1;33m:glitter-index\u001b[0m \u001b[36m3\u001b[0m \u001b[1;33m:name\u001b[0m \u001b[1;35m\"Jacob Black\"\u001b[0m\u001b[1;31m}\u001b[0m\n",
      "\u001b[1;31m {\u001b[0m\u001b[1;33m:glitter-index\u001b[0m \u001b[36m6\u001b[0m \u001b[1;33m:name\u001b[0m \u001b[1;35m\"Carlisle Cullen\"\u001b[0m\u001b[1;31m}\u001b[0m\n",
      "\u001b[1;31m {\u001b[0m\u001b[1;33m:glitter-index\u001b[0m \u001b[36m7\u001b[0m \u001b[1;33m:name\u001b[0m \u001b[1;35m\"Alice Cullen\"\u001b[0m\u001b[1;31m}\u001b[0m\u001b[1;31m)\u001b[0m\n",
      "Actual:\n",
      "\u001b[1;31m(\u001b[0m\u001b[1;31m)\u001b[0m\n",
      "Diffs: expected length of sequence is 6, actual length is 0.\n",
      "                actual is missing 6 elements: ({:name \"Edward Cullen\", :glitter-index 10} {:name \"Bella Swan\", :glitter-index 0} {:name \"Charlie Swan\", :glitter-index 0} {:name \"Jacob Black\", :glitter-index 3} {:name \"Carlisle Cullen\", :glitter-index 6} {:name \"Alice Cullen\", :glitter-index 7})\n"
     ]
    },
    {
     "data": {
      "text/plain": [
       "false"
      ]
     },
     "execution_count": 14,
     "metadata": {},
     "output_type": "execute_result"
    }
   ],
   "source": [
    "(defn append [suspects suspect]\n",
    "    '())\n",
    "\n",
    "(let [suspects (parse (slurp filename))\n",
    "      suspects-map (mapify suspects)\n",
    "      new-suspect [\"Alice Cullen\" \"7\"]\n",
    "      new-suspect-map {:name \"Alice Cullen\" :glitter-index 7}]\n",
    "    (facts \"about append\"\n",
    "           (fact \"it can append to a list of vectors\"\n",
    "                 (append suspects new-suspect)\n",
    "                 => '(\n",
    "                         [\"Edward Cullen\"  \"10\"]\n",
    "                         [\"Bella Swan\"      \"0\"]\n",
    "                         [\"Charlie Swan\"    \"0\"]\n",
    "                         [\"Jacob Black\"     \"3\"]\n",
    "                         [\"Carlisle Cullen\" \"6\"]\n",
    "                         [\"Alice Cullen\"    \"7\"]))\n",
    "           (fact \"it can append to a list of maps\"\n",
    "                 (append (mapify suspects) new-suspect-map)\n",
    "                 => '(\n",
    "                         {:name \"Edward Cullen\"   :glitter-index 10}\n",
    "                         {:name \"Bella Swan\"      :glitter-index 0}\n",
    "                         {:name \"Charlie Swan\"    :glitter-index 0}\n",
    "                         {:name \"Jacob Black\"     :glitter-index 3}\n",
    "                         {:name \"Carlisle Cullen\" :glitter-index 6}\n",
    "                         {:name \"Alice Cullen\"    :glitter-index 7}))))"
   ]
  },
  {
   "cell_type": "markdown",
   "metadata": {},
   "source": [
    "### Exercise 3\n",
    "\n",
    "Write a function, `validate`, which will check that `:name` and `:glitter-index` are present when you append. The validate function should accept two arguments: a map of keywords to validating functions, similar to conversions, and the record to be validated."
   ]
  },
  {
   "cell_type": "code",
   "execution_count": 15,
   "metadata": {},
   "outputs": [
    {
     "name": "stdout",
     "output_type": "stream",
     "text": [
      "\n",
      "\u001b[31mFAIL\u001b[0m \"about validate - it returns true for valid records\" at (core.clj:12)\n",
      "Expected:\n",
      "\u001b[32mtrue\u001b[0m\n",
      "Actual:\n",
      "\u001b[32mfalse\u001b[0m\n"
     ]
    },
    {
     "data": {
      "text/plain": [
       "false"
      ]
     },
     "execution_count": 15,
     "metadata": {},
     "output_type": "execute_result"
    }
   ],
   "source": [
    "(def validations {:name #(not (nil? %))\n",
    "                  :glitter-index #(not (nil? %))})\n",
    "\n",
    "(defn validate [validations record]\n",
    "    false)\n",
    "\n",
    "(let [suspects (parse (slurp filename))\n",
    "      valid-record (first suspects)\n",
    "      invalid-record [\"Just a name\"]]\n",
    "    (facts \"about validate\"\n",
    "           (fact \"it returns true for valid records\"\n",
    "                 (validate validations valid-record) => true)\n",
    "           (fact \"it returns false for invalid records\"\n",
    "                 (validate validations invalid-record) => false)))"
   ]
  },
  {
   "cell_type": "markdown",
   "metadata": {},
   "source": [
    "### Exercise 4\n",
    "\n",
    "Write a function that will take your list of maps and convert it back to a CSV string. You’ll need to use the `clojure.string/join` function."
   ]
  },
  {
   "cell_type": "code",
   "execution_count": 16,
   "metadata": {},
   "outputs": [
    {
     "name": "stdout",
     "output_type": "stream",
     "text": [
      "\n",
      "\u001b[31mFAIL\u001b[0m \"about to-csv - it converts back to a csv string\" at (core.clj:8)\n",
      "Expected:\n",
      "\u001b[1;35m\"Edward Cullen,10\\nBella Swan,0\\nCharlie Swan,0\\nJacob Black,3\\nCarlisle Cullen,6\\n\"\u001b[0m\n",
      "Actual:\n",
      "\u001b[1;35m\"\"\u001b[0m\n",
      "Diffs: strings have 1 difference (0% similarity)\n",
      "                expected: \"(Edward Cullen,10\\nBella Swan,0\\nCharlie Swan,0\\nJacob Black,3\\nCarlisle Cullen,6\\n)\"\n",
      "                actual:   \"(-----------------------------------------------------------------------------)\"\n"
     ]
    },
    {
     "data": {
      "text/plain": [
       "false"
      ]
     },
     "execution_count": 16,
     "metadata": {},
     "output_type": "execute_result"
    }
   ],
   "source": [
    "(defn to-csv [records]\n",
    "    \"\")\n",
    "\n",
    "(let [csv-string (slurp filename)\n",
    "      records (parse csv-string)]\n",
    "    (facts \"about to-csv\"\n",
    "           (fact \"it converts back to a csv string\"\n",
    "                 (to-csv records) => csv-string)))"
   ]
  }
 ],
 "metadata": {
  "kernelspec": {
   "display_name": "Clojure",
   "language": "clojure",
   "name": "clojure"
  },
  "language_info": {
   "file_extension": ".clj",
   "mimetype": "text/x-clojure",
   "name": "clojure",
   "version": "1.8.0"
  }
 },
 "nbformat": 4,
 "nbformat_minor": 2
}
