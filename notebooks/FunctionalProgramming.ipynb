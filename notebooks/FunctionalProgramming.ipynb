{
 "cells": [
  {
   "cell_type": "code",
   "execution_count": 1,
   "metadata": {},
   "outputs": [
    {
     "name": "stdout",
     "output_type": "stream",
     "text": [
      "\u001b[36mRun `(doc midje)` for Midje usage.\u001b[0m\n",
      "\u001b[36mRun `(doc midje-repl)` for descriptions of Midje repl functions.\u001b[0m\n"
     ]
    }
   ],
   "source": [
    "(require '[clojupyter.misc.helper :as helper])\n",
    "(helper/add-dependencies '[midje \"1.9.1\"])\n",
    "(use 'clojure.pprint)\n",
    "(use 'clojure.repl)\n",
    "(use 'midje.repl)"
   ]
  },
  {
   "cell_type": "markdown",
   "metadata": {},
   "source": [
    "# Functional Programming"
   ]
  },
  {
   "cell_type": "markdown",
   "metadata": {},
   "source": [
    "## Pure Functions: What and Why"
   ]
  },
  {
   "cell_type": "markdown",
   "metadata": {},
   "source": [
    "1. _Referential Transparency_\n",
    "\n",
    "   always returns the same result given the same arguments\n",
    "\n",
    "2. Side-effect free\n",
    "\n",
    "   can't make any changes that are observable outside the function itself"
   ]
  },
  {
   "cell_type": "markdown",
   "metadata": {},
   "source": [
    "### Pure Functions Are Referentially Transparent"
   ]
  },
  {
   "cell_type": "code",
   "execution_count": 2,
   "metadata": {},
   "outputs": [
    {
     "data": {
      "text/plain": [
       "true"
      ]
     },
     "execution_count": 2,
     "metadata": {},
     "output_type": "execute_result"
    }
   ],
   "source": [
    "(fact\n",
    "    (+ 1 2) => 3)"
   ]
  },
  {
   "cell_type": "code",
   "execution_count": 3,
   "metadata": {},
   "outputs": [
    {
     "data": {
      "text/plain": [
       "true"
      ]
     },
     "execution_count": 3,
     "metadata": {},
     "output_type": "execute_result"
    }
   ],
   "source": [
    "(defn wisdom\n",
    "  [words]\n",
    "  (str words \", Daniel-san\"))\n",
    "\n",
    "(fact\n",
    "    (wisdom \"Always bathe on Fridays\") => \"Always bathe on Fridays, Daniel-san\")"
   ]
  },
  {
   "cell_type": "code",
   "execution_count": 4,
   "metadata": {},
   "outputs": [
    {
     "name": "stdout",
     "output_type": "stream",
     "text": [
      "\n",
      "\u001b[31mFAIL\u001b[0m at (core.clj:7)\n",
      "Expected:\n",
      "\u001b[1;35m\"You get a raise!\"\u001b[0m\n",
      "Actual:\n",
      "\u001b[1;35m\"Better luck next year!\"\u001b[0m\n",
      "Diffs: strings have 1 difference (4% similarity)\n",
      "                expected: \"(You get a raise------)!\"\n",
      "                actual:   \"(Better luck next year)!\"\n"
     ]
    },
    {
     "data": {
      "text/plain": [
       "false"
      ]
     },
     "execution_count": 4,
     "metadata": {},
     "output_type": "execute_result"
    }
   ],
   "source": [
    "(defn year-end-evaluation\n",
    "  []\n",
    "  (if (> (rand) 0.5)\n",
    "    \"You get a raise!\"\n",
    "    \"Better luck next year!\"))\n",
    "(fact\n",
    "    (year-end-evaluation) => \"You get a raise!\")"
   ]
  },
  {
   "cell_type": "code",
   "execution_count": 5,
   "metadata": {},
   "outputs": [
    {
     "data": {
      "text/plain": [
       "true"
      ]
     },
     "execution_count": 5,
     "metadata": {},
     "output_type": "execute_result"
    }
   ],
   "source": [
    "; this function _is_ pure --- given the same text, the count will be the same\n",
    "(defn analysis\n",
    "  [text]\n",
    "  (str \"Character count: \" (count text)))\n",
    "\n",
    "; this function is not pure because it is reading from the filesystem\n",
    "(defn analyze-file\n",
    "  [filename]\n",
    "  (analysis (slurp filename)))\n",
    "\n",
    "\n",
    "\n",
    "(fact\n",
    "    (analyze-file \"resources/text-file.txt\") => \"Character count: 13\")"
   ]
  },
  {
   "cell_type": "markdown",
   "metadata": {},
   "source": [
    "### Pure Functions Have No Side Effects\n",
    "\n",
    "To perform a side effect is to change the association between a name and its value within a given scope:\n",
    "\n",
    "```javascript\n",
    "var haplessObject = {\n",
    "  emotion: \"Carefree!\"\n",
    "};\n",
    "\n",
    "var evilMutator = function(object){\n",
    "  object.emotion = \"So emo :'(\";\n",
    "}\n",
    "\n",
    "evilMutator(haplessObject);\n",
    "haplessObject.emotion;\n",
    "// => \"So emo :'(\"\n",
    "```"
   ]
  },
  {
   "cell_type": "markdown",
   "metadata": {},
   "source": [
    "## Living with Immutable Data\n",
    "\n",
    "- P. Helland, \"Immutability Changes Everything,\" _ACM Queue_, November--December 2015 [[link]](https://dl.acm.org/citation.cfm?id=2884038)\n",
    "\n",
    "### Recursion Instead of for/while\n",
    "\n",
    "```js\n",
    "var wrestlers = getAlligatorWrestlers();\n",
    "var totalBites = 0;\n",
    "var l = wrestlers.length;\n",
    "\n",
    "for(var i=0; i < l; i++){\n",
    "  totalBites += wrestlers[i].timesBitten;\n",
    "}\n",
    "```\n",
    "\n",
    "```js\n",
    "var allPatients = getArkhamPatients();\n",
    "var analyzedPatients = [];\n",
    "var l = allPatients.length;\n",
    "\n",
    "for(var i=0; i < l; i++){\n",
    "  if(allPatients[i].analyzed){\n",
    "    analyzedPatients.push(allPatients[i]);\n",
    "  }\n",
    "}\n",
    "```"
   ]
  },
  {
   "cell_type": "code",
   "execution_count": 6,
   "metadata": {},
   "outputs": [
    {
     "data": {
      "text/plain": [
       "true"
      ]
     },
     "execution_count": 6,
     "metadata": {},
     "output_type": "execute_result"
    }
   ],
   "source": [
    "(def great-baby-name \"Rosanthony\")\n",
    "(fact\n",
    "    great-baby-name => \"Rosanthony\")"
   ]
  },
  {
   "cell_type": "code",
   "execution_count": 7,
   "metadata": {},
   "outputs": [
    {
     "data": {
      "text/plain": [
       "true"
      ]
     },
     "execution_count": 7,
     "metadata": {},
     "output_type": "execute_result"
    }
   ],
   "source": [
    "(let [great-baby-name \"Bloodthunder\"]\n",
    "  (fact\n",
    "      great-baby-name => \"Bloodthunder\"))"
   ]
  },
  {
   "cell_type": "code",
   "execution_count": 8,
   "metadata": {},
   "outputs": [
    {
     "data": {
      "text/plain": [
       "true"
      ]
     },
     "execution_count": 8,
     "metadata": {},
     "output_type": "execute_result"
    }
   ],
   "source": [
    "(fact\n",
    "    great-baby-name => \"Rosanthony\")"
   ]
  },
  {
   "cell_type": "code",
   "execution_count": 9,
   "metadata": {},
   "outputs": [
    {
     "data": {
      "text/plain": [
       "true"
      ]
     },
     "execution_count": 9,
     "metadata": {},
     "output_type": "execute_result"
    }
   ],
   "source": [
    "(defn sum\n",
    "    ; arity overloading\n",
    "    ([vals] (sum vals 0)) \n",
    "    ([vals accumulating-total]\n",
    "     (if (empty? vals)\n",
    "         accumulating-total\n",
    "         (sum (rest vals) (+ (first vals) accumulating-total)))))\n",
    "\n",
    "(fact\n",
    "    (sum (range 11)) => 55)"
   ]
  },
  {
   "cell_type": "code",
   "execution_count": 10,
   "metadata": {},
   "outputs": [
    {
     "name": "stdout",
     "output_type": "stream",
     "text": [
      "StackOverflowError   clojure.lang.LongRange.next (LongRange.java:142)\n"
     ]
    },
    {
     "ename": "class java.lang.StackOverflowError",
     "evalue": "",
     "execution_count": 10,
     "output_type": "error",
     "status": "error",
     "traceback": []
    }
   ],
   "source": [
    "; clojure *does not* have tail-call optimization\n",
    "(sum (range 1000000))"
   ]
  },
  {
   "cell_type": "code",
   "execution_count": 11,
   "metadata": {},
   "outputs": [
    {
     "name": "stdout",
     "output_type": "stream",
     "text": [
      "-------------------------\n",
      "recur\n",
      "  (recur exprs*)\n",
      "Special Form\n",
      "  Evaluates the exprs in order, then, in parallel, rebinds\n",
      "  the bindings of the recursion point to the values of the exprs.\n",
      "  Execution then jumps back to the recursion point, a loop or fn method.\n",
      "\n",
      "  Please see http://clojure.org/special_forms#recur\n"
     ]
    }
   ],
   "source": [
    "(doc recur)"
   ]
  },
  {
   "cell_type": "code",
   "execution_count": 12,
   "metadata": {},
   "outputs": [
    {
     "data": {
      "text/plain": [
       "#'user/sum"
      ]
     },
     "execution_count": 12,
     "metadata": {},
     "output_type": "execute_result"
    }
   ],
   "source": [
    "(defn sum\n",
    "    ([vals]\n",
    "     (sum vals 0))\n",
    "    ([vals accumulating-total]\n",
    "     (if (empty? vals)\n",
    "         accumulating-total\n",
    "         (recur (rest vals) (+ (first vals) accumulating-total)))))"
   ]
  },
  {
   "cell_type": "code",
   "execution_count": 13,
   "metadata": {},
   "outputs": [
    {
     "data": {
      "text/plain": [
       "true"
      ]
     },
     "execution_count": 13,
     "metadata": {},
     "output_type": "execute_result"
    }
   ],
   "source": [
    "(fact\n",
    "    (sum (range 11)) => 55)"
   ]
  },
  {
   "cell_type": "code",
   "execution_count": 14,
   "metadata": {},
   "outputs": [
    {
     "data": {
      "text/plain": [
       "499999500000"
      ]
     },
     "execution_count": 14,
     "metadata": {},
     "output_type": "execute_result"
    }
   ],
   "source": [
    "(sum (range 1000000))"
   ]
  },
  {
   "cell_type": "markdown",
   "metadata": {},
   "source": [
    "*NOTE:* Clojure’s immutable data structures are implemented using _structural sharing_. This keeps the program from thrashing due to excessive GC. See [Understanding Clojure's Persistent Vectors](https://hypirion.com/musings/understanding-persistent-vector-pt-1) for more info.\n",
    "\n",
    "### Function Composition Instead of Attribute Mutation\n",
    "\n",
    "```ruby\n",
    "class GlamourShotCaption\n",
    "  attr_reader :text\n",
    "  def initialize(text)\n",
    "    @text = text\n",
    "    clean!\n",
    "  end\n",
    "\n",
    "  private\n",
    "  def clean!\n",
    "    text.trim!\n",
    "    text.gsub!(/lol/, \"LOL\")\n",
    "  end\n",
    "end\n",
    "\n",
    "best = GlamourShotCaption.new(\"My boa constrictor is so sassy lol!  \")\n",
    "best.text\n",
    "```"
   ]
  },
  {
   "cell_type": "code",
   "execution_count": 15,
   "metadata": {},
   "outputs": [
    {
     "data": {
      "text/plain": [
       "true"
      ]
     },
     "execution_count": 15,
     "metadata": {},
     "output_type": "execute_result"
    }
   ],
   "source": [
    "(require '[clojure.string :as s])\n",
    "(defn clean\n",
    "  [text]\n",
    "  (s/replace (s/trim text) #\"lol\" \"LOL\"))\n",
    "\n",
    "\n",
    "(fact\n",
    "    (clean \"My boa constrictor is so sassy lol!  \") => \"My boa constrictor is so sassy LOL!\")\n"
   ]
  },
  {
   "cell_type": "markdown",
   "metadata": {},
   "source": [
    "## Exercises\n",
    "\n",
    "1. Fibonacci number"
   ]
  },
  {
   "cell_type": "code",
   "execution_count": 16,
   "metadata": {},
   "outputs": [
    {
     "data": {
      "text/plain": [
       "true"
      ]
     },
     "execution_count": 16,
     "metadata": {},
     "output_type": "execute_result"
    }
   ],
   "source": [
    "(defn fib [n]\n",
    "    (cond\n",
    "        (= n 0) 0\n",
    "        (= n 1) 1\n",
    "        :else (+ (fib (- n 1)) (fib (- n 2)))))\n",
    "    \n",
    "\n",
    "(facts \"about fib\"\n",
    "       (fact (fib 3) => 2)\n",
    "       (fact (fib 9) => 34))\n"
   ]
  },
  {
   "cell_type": "code",
   "execution_count": 17,
   "metadata": {},
   "outputs": [
    {
     "data": {
      "text/plain": [
       "true"
      ]
     },
     "execution_count": 17,
     "metadata": {},
     "output_type": "execute_result"
    }
   ],
   "source": [
    "(defn recursive-fib\n",
    "    ([n]\n",
    "     (recursive-fib n 0 1))\n",
    "    ([n a b]\n",
    "    (cond\n",
    "        (= n 0) a\n",
    "        (= n 1) b\n",
    "        :else (recur (- n 1) b (+ a b)))))\n",
    "\n",
    "(facts \"about fib\"\n",
    "       (fact (recursive-fib 3) => 2)\n",
    "       (fact (recursive-fib 9) => 34))"
   ]
  },
  {
   "cell_type": "code",
   "execution_count": 18,
   "metadata": {},
   "outputs": [
    {
     "name": "stdout",
     "output_type": "stream",
     "text": [
      "\"Elapsed time: 0.122813 msecs\"\n"
     ]
    },
    {
     "data": {
      "text/plain": [
       "6765"
      ]
     },
     "execution_count": 18,
     "metadata": {},
     "output_type": "execute_result"
    }
   ],
   "source": [
    "(time (recursive-fib 20))"
   ]
  },
  {
   "cell_type": "code",
   "execution_count": 19,
   "metadata": {},
   "outputs": [
    {
     "name": "stdout",
     "output_type": "stream",
     "text": [
      "\"Elapsed time: 6.13163 msecs\"\n"
     ]
    },
    {
     "data": {
      "text/plain": [
       "6765"
      ]
     },
     "execution_count": 19,
     "metadata": {},
     "output_type": "execute_result"
    }
   ],
   "source": [
    "(time (fib 20))"
   ]
  },
  {
   "cell_type": "code",
   "execution_count": 20,
   "metadata": {},
   "outputs": [
    {
     "data": {
      "text/plain": [
       "#'user/m-fib"
      ]
     },
     "execution_count": 20,
     "metadata": {},
     "output_type": "execute_result"
    }
   ],
   "source": [
    "(def m-fib (memoize fib))"
   ]
  },
  {
   "cell_type": "code",
   "execution_count": 21,
   "metadata": {},
   "outputs": [
    {
     "name": "stdout",
     "output_type": "stream",
     "text": [
      "\"Elapsed time: 0.739654 msecs\"\n"
     ]
    },
    {
     "data": {
      "text/plain": [
       "6765"
      ]
     },
     "execution_count": 21,
     "metadata": {},
     "output_type": "execute_result"
    }
   ],
   "source": [
    "(time (m-fib 20))"
   ]
  }
 ],
 "metadata": {
  "kernelspec": {
   "display_name": "Clojure",
   "language": "clojure",
   "name": "clojure"
  },
  "language_info": {
   "file_extension": ".clj",
   "mimetype": "text/x-clojure",
   "name": "clojure",
   "version": "1.8.0"
  }
 },
 "nbformat": 4,
 "nbformat_minor": 2
}
