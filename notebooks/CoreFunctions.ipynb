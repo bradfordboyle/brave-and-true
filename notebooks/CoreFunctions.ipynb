{
 "cells": [
  {
   "cell_type": "code",
   "execution_count": null,
   "metadata": {},
   "outputs": [],
   "source": [
    "(use 'clojure.repl)\n",
    "(use 'clojure.pprint)"
   ]
  },
  {
   "cell_type": "markdown",
   "metadata": {},
   "source": [
    "### Treating Lists, Vectors, Sets, and Maps as Sequences"
   ]
  },
  {
   "cell_type": "code",
   "execution_count": null,
   "metadata": {},
   "outputs": [],
   "source": [
    "(defn titleize\n",
    "  [topic]\n",
    "  (str topic \" for the Brave and True\"))\n",
    "\n",
    "(map titleize [\"Hamsters\" \"Ragnarok\"])\n",
    "; => (\"Hamsters for the Brave and True\" \"Ragnarok for the Brave and True\")"
   ]
  },
  {
   "cell_type": "code",
   "execution_count": null,
   "metadata": {},
   "outputs": [],
   "source": [
    "(map titleize '(\"Empathy\" \"Decorating\"))\n",
    "; => (\"Empathy for the Brave and True\" \"Decorating for the Brave and True\")"
   ]
  },
  {
   "cell_type": "code",
   "execution_count": null,
   "metadata": {},
   "outputs": [],
   "source": [
    "(map titleize #{\"Elbows\" \"Soap Carving\"})\n",
    "; => (\"Elbows for the Brave and True\" \"Soap Carving for the Brave and True\")"
   ]
  },
  {
   "cell_type": "code",
   "execution_count": null,
   "metadata": {},
   "outputs": [],
   "source": [
    "(map #(titleize (second %)) {:uncomfortable-thing \"Winking\"})\n",
    "; => (\"Winking for the Brave and True\")"
   ]
  },
  {
   "cell_type": "markdown",
   "metadata": {},
   "source": [
    "### Abstraction Through Indirection\n",
    "\n",
    "- why would we want to use `seq`? Maybe something with `lazy seq`"
   ]
  },
  {
   "cell_type": "code",
   "execution_count": null,
   "metadata": {},
   "outputs": [],
   "source": [
    "(seq '(1 2 3))\n",
    "; => (1 2 3)"
   ]
  },
  {
   "cell_type": "code",
   "execution_count": null,
   "metadata": {},
   "outputs": [],
   "source": [
    "(seq [1 2 3])\n",
    "; => (1 2 3)"
   ]
  },
  {
   "cell_type": "code",
   "execution_count": null,
   "metadata": {},
   "outputs": [],
   "source": [
    "(seq #{1 2 3})\n",
    "; => (1 2 3)"
   ]
  },
  {
   "cell_type": "code",
   "execution_count": null,
   "metadata": {},
   "outputs": [],
   "source": [
    "(seq {:name \"Bill Compton\" :occupation \"Dead mopey guy\"})\n",
    "; => ([:name \"Bill Compton\"] [:occupation \"Dead mopey guy\"])"
   ]
  },
  {
   "cell_type": "code",
   "execution_count": null,
   "metadata": {},
   "outputs": [],
   "source": [
    "(into {} (seq {:a 1 :b 2 :c 3}))\n",
    "; => {:a 1, :c 3, :b 2}"
   ]
  },
  {
   "cell_type": "markdown",
   "metadata": {},
   "source": [
    "## Seq Function Examples"
   ]
  },
  {
   "cell_type": "markdown",
   "metadata": {},
   "source": [
    "### map"
   ]
  },
  {
   "cell_type": "code",
   "execution_count": null,
   "metadata": {},
   "outputs": [],
   "source": [
    "(map inc [1 2 3])\n",
    "; => (2 3 4)"
   ]
  },
  {
   "cell_type": "code",
   "execution_count": null,
   "metadata": {},
   "outputs": [],
   "source": [
    "(map str [\"a\" \"b\" \"c\"] [\"A\" \"B\" \"C\"])\n",
    "; => (\"aA\" \"bB\" \"cC\")"
   ]
  },
  {
   "cell_type": "code",
   "execution_count": null,
   "metadata": {},
   "outputs": [],
   "source": [
    "(list (str \"a\" \"A\") (str \"b\" \"B\") (str \"c\" \"C\"))"
   ]
  },
  {
   "cell_type": "code",
   "execution_count": null,
   "metadata": {},
   "outputs": [],
   "source": [
    "(def human-consumption   [8.1 7.3 6.6 5.0])\n",
    "(def critter-consumption [0.0 0.2 0.3 1.1])\n",
    "(defn unify-diet-data\n",
    "  [human critter]\n",
    "  {:human human\n",
    "   :critter critter})\n",
    "\n",
    "(pprint\n",
    "    (map unify-diet-data human-consumption critter-consumption))\n",
    "; => ({:human 8.1, :critter 0.0}\n",
    ";     {:human 7.3, :critter 0.2}\n",
    ";     {:human 6.6, :critter 0.3}\n",
    ";     {:human 5.0, :critter 1.1})"
   ]
  },
  {
   "cell_type": "code",
   "execution_count": null,
   "metadata": {},
   "outputs": [],
   "source": [
    "(def sum #(reduce + %))\n",
    "(def avg #(/ (sum %) (count %)))\n",
    "(defn stats\n",
    "  [numbers]\n",
    "  (map #(% numbers) [sum count avg]))\n",
    "\n",
    "(stats [3 4 10])\n",
    "; => (17 3 17/3)\n",
    "\n",
    "(stats [80 1 44 13 6])\n",
    "; => (144 5 144/5)"
   ]
  },
  {
   "cell_type": "code",
   "execution_count": null,
   "metadata": {},
   "outputs": [],
   "source": [
    "(def identities\n",
    "  [{:alias \"Batman\" :real \"Bruce Wayne\"}\n",
    "   {:alias \"Spider-Man\" :real \"Peter Parker\"}\n",
    "   {:alias \"Santa\" :real \"Your mom\"}\n",
    "   {:alias \"Easter Bunny\" :real \"Your dad\"}])\n",
    "\n",
    "(map :real identities)\n",
    "; => (\"Bruce Wayne\" \"Peter Parker\" \"Your mom\" \"Your dad\")"
   ]
  },
  {
   "cell_type": "markdown",
   "metadata": {},
   "source": [
    "### reduce"
   ]
  },
  {
   "cell_type": "code",
   "execution_count": null,
   "metadata": {},
   "outputs": [],
   "source": [
    "(reduce (fn [new-map [key val]]\n",
    "          (assoc new-map key (inc val)))\n",
    "        {}\n",
    "        {:max 30 :min 10 :median 20})\n",
    "; => {:max 31, :min 11}"
   ]
  },
  {
   "cell_type": "code",
   "execution_count": null,
   "metadata": {},
   "outputs": [],
   "source": [
    "(assoc (assoc {} :max (inc 30))\n",
    "       :min (inc 10))"
   ]
  },
  {
   "cell_type": "code",
   "execution_count": null,
   "metadata": {},
   "outputs": [],
   "source": [
    "; using reduce to filter a map\n",
    "(reduce (fn [new-map [key val]]\n",
    "          (if (> val 4)\n",
    "            (assoc new-map key val)\n",
    "            new-map))\n",
    "        {}\n",
    "        {:human 4.1\n",
    "         :critter 3.9})\n",
    "; => {:human 4.1}"
   ]
  },
  {
   "cell_type": "code",
   "execution_count": null,
   "metadata": {},
   "outputs": [],
   "source": [
    "(defn my-map [f coll]\n",
    "    (reduce (fn [x y] (conj x (f y))) [] coll))\n",
    "\n",
    "(my-map inc [1 2 3])"
   ]
  },
  {
   "cell_type": "markdown",
   "metadata": {},
   "source": [
    "### take, drop, take-while, and drop-while"
   ]
  },
  {
   "cell_type": "code",
   "execution_count": null,
   "metadata": {},
   "outputs": [],
   "source": [
    "(take 3 [1 2 3 4 5 6 7 8 9 10])\n",
    "; => (1 2 3)"
   ]
  },
  {
   "cell_type": "code",
   "execution_count": null,
   "metadata": {},
   "outputs": [],
   "source": [
    "(drop 3 [1 2 3 4 5 6 7 8 9 10])\n",
    "; => (4 5 6 7 8 9 10)"
   ]
  },
  {
   "cell_type": "code",
   "execution_count": null,
   "metadata": {},
   "outputs": [],
   "source": [
    "(def food-journal\n",
    "  [{:month 1 :day 1 :human 5.3 :critter 2.3}\n",
    "   {:month 1 :day 2 :human 5.1 :critter 2.0}\n",
    "   {:month 2 :day 1 :human 4.9 :critter 2.1}\n",
    "   {:month 2 :day 2 :human 5.0 :critter 2.5}\n",
    "   {:month 3 :day 1 :human 4.2 :critter 3.3}\n",
    "   {:month 3 :day 2 :human 4.0 :critter 3.8}\n",
    "   {:month 4 :day 1 :human 3.7 :critter 3.9}\n",
    "   {:month 4 :day 2 :human 3.7 :critter 3.6}])"
   ]
  },
  {
   "cell_type": "code",
   "execution_count": null,
   "metadata": {},
   "outputs": [],
   "source": [
    "(doc take-while)"
   ]
  },
  {
   "cell_type": "code",
   "execution_count": null,
   "metadata": {},
   "outputs": [],
   "source": [
    "(pprint\n",
    "    (take-while #(< (:month %) 3) food-journal))\n",
    "; => ({:month 1 :day 1 :human 5.3 :critter 2.3}\n",
    ";     {:month 1 :day 2 :human 5.1 :critter 2.0}\n",
    ";     {:month 2 :day 1 :human 4.9 :critter 2.1}\n",
    ";     {:month 2 :day 2 :human 5.0 :critter 2.5})"
   ]
  },
  {
   "cell_type": "code",
   "execution_count": null,
   "metadata": {},
   "outputs": [],
   "source": [
    "(pprint\n",
    "    (drop-while #(< (:month %) 3) food-journal))\n",
    "; => ({:month 3 :day 1 :human 4.2 :critter 3.3}\n",
    ";     {:month 3 :day 2 :human 4.0 :critter 3.8}\n",
    ";     {:month 4 :day 1 :human 3.7 :critter 3.9}\n",
    ";     {:month 4 :day 2 :human 3.7 :critter 3.6})\n"
   ]
  },
  {
   "cell_type": "code",
   "execution_count": null,
   "metadata": {},
   "outputs": [],
   "source": [
    "(pprint\n",
    "    (take-while #(< (:month %) 4)\n",
    "                (drop-while #(< (:month %) 2) food-journal)))\n",
    "; => ({:month 2 :day 1 :human 4.9 :critter 2.1}\n",
    ";     {:month 2 :day 2 :human 5.0 :critter 2.5}\n",
    ";     {:month 3 :day 1 :human 4.2 :critter 3.3}\n",
    ";     {:month 3 :day 2 :human 4.0 :critter 3.8})\n"
   ]
  },
  {
   "cell_type": "markdown",
   "metadata": {},
   "source": [
    "### filter and some"
   ]
  },
  {
   "cell_type": "code",
   "execution_count": null,
   "metadata": {},
   "outputs": [],
   "source": [
    "(pprint\n",
    "    (filter #(< (:human %) 5) food-journal))\n",
    "; => ({:month 2 :day 1 :human 4.9 :critter 2.1}\n",
    ";     {:month 3 :day 1 :human 4.2 :critter 3.3}\n",
    ";     {:month 3 :day 2 :human 4.0 :critter 3.8}\n",
    ";     {:month 4 :day 1 :human 3.7 :critter 3.9}\n",
    ";     {:month 4 :day 2 :human 3.7 :critter 3.6})"
   ]
  },
  {
   "cell_type": "code",
   "execution_count": null,
   "metadata": {},
   "outputs": [],
   "source": [
    "(pprint\n",
    "    (filter #(< (:month %) 3) food-journal))\n",
    "; => ({:month 1 :day 1 :human 5.3 :critter 2.3}\n",
    ";     {:month 1 :day 2 :human 5.1 :critter 2.0}\n",
    ";     {:month 2 :day 1 :human 4.9 :critter 2.1}\n",
    ";     {:month 2 :day 2 :human 5.0 :critter 2.5})"
   ]
  },
  {
   "cell_type": "markdown",
   "metadata": {},
   "source": [
    "#### Note\n",
    "\n",
    "Same result as using `take-while`, so when to use `filter` or `take-while`? Notice that `food-journal` is *sorted*; `take-while` will end up processing less data. If `food-journal` was not sorted, we would need to use `filter`."
   ]
  },
  {
   "cell_type": "code",
   "execution_count": null,
   "metadata": {},
   "outputs": [],
   "source": [
    "(some #(> (:critter %) 5) food-journal)\n",
    "; => nil"
   ]
  },
  {
   "cell_type": "code",
   "execution_count": null,
   "metadata": {},
   "outputs": [],
   "source": [
    "(some #(> (:critter %) 3) food-journal)\n",
    "; => true"
   ]
  },
  {
   "cell_type": "code",
   "execution_count": null,
   "metadata": {},
   "outputs": [],
   "source": [
    "(some #(and (> (:critter %) 3) %) food-journal)\n",
    "; => {:month 3 :day 1 :human 4.2 :critter 3.3}"
   ]
  },
  {
   "cell_type": "markdown",
   "metadata": {},
   "source": [
    "### sort and sort-by"
   ]
  },
  {
   "cell_type": "code",
   "execution_count": null,
   "metadata": {},
   "outputs": [],
   "source": [
    "(sort [3 1 2])\n",
    "; => (1 2 3)"
   ]
  },
  {
   "cell_type": "code",
   "execution_count": null,
   "metadata": {},
   "outputs": [],
   "source": [
    "(sort-by count [\"aaa\" \"c\" \"bb\"])\n",
    "; => (\"c\" \"bb\" \"aaa\")"
   ]
  },
  {
   "cell_type": "code",
   "execution_count": null,
   "metadata": {},
   "outputs": [],
   "source": [
    "(sort {:min 10 :max 30})"
   ]
  },
  {
   "cell_type": "markdown",
   "metadata": {},
   "source": [
    "### concat"
   ]
  },
  {
   "cell_type": "code",
   "execution_count": null,
   "metadata": {},
   "outputs": [],
   "source": [
    "(concat [1 2] [3 4])\n",
    "; => (1 2 3 4)"
   ]
  },
  {
   "cell_type": "markdown",
   "metadata": {},
   "source": [
    "## Lazy Seqs\n",
    "\n",
    "- realizing the seq"
   ]
  },
  {
   "cell_type": "markdown",
   "metadata": {},
   "source": [
    "### Demonstrating Lazy Seq Efficiency"
   ]
  },
  {
   "cell_type": "code",
   "execution_count": null,
   "metadata": {},
   "outputs": [],
   "source": [
    "(def vampire-database\n",
    "  {0 {:makes-blood-puns? false, :has-pulse? true  :name \"McFishwich\"}\n",
    "   1 {:makes-blood-puns? false, :has-pulse? true  :name \"McMackson\"}\n",
    "   2 {:makes-blood-puns? true,  :has-pulse? false :name \"Damon Salvatore\"}\n",
    "   3 {:makes-blood-puns? true,  :has-pulse? true  :name \"Mickey Mouse\"}})\n",
    "\n",
    "(defn vampire-related-details\n",
    "  [social-security-number]\n",
    "  (Thread/sleep 1000)\n",
    "  ; note the use of `get` -> SSN are not keywords\n",
    "  (get vampire-database social-security-number))\n",
    "\n",
    "(defn vampire?\n",
    "  [record]\n",
    "  (and (:makes-blood-puns? record)\n",
    "       (not (:has-pulse? record))\n",
    "       record))\n",
    "\n",
    "(defn identify-vampire\n",
    "  [social-security-numbers]\n",
    "  (first (filter vampire?\n",
    "                 (map vampire-related-details social-security-numbers))))"
   ]
  },
  {
   "cell_type": "code",
   "execution_count": null,
   "metadata": {},
   "outputs": [],
   "source": [
    "(time (vampire-related-details 0))\n",
    "; => \"Elapsed time: 1001.042 msecs\"\n",
    "; => {:name \"McFishwich\", :makes-blood-puns? false, :has-pulse? true}"
   ]
  },
  {
   "cell_type": "code",
   "execution_count": null,
   "metadata": {},
   "outputs": [],
   "source": [
    "(time\n",
    "    (def mapped-details (map vampire-related-details (range 0 1000000))))"
   ]
  },
  {
   "cell_type": "code",
   "execution_count": null,
   "metadata": {},
   "outputs": [],
   "source": [
    "; clojure \"chunks\" lazy seqs\n",
    "(time (first mapped-details))"
   ]
  },
  {
   "cell_type": "code",
   "execution_count": null,
   "metadata": {},
   "outputs": [],
   "source": [
    "(time (first mapped-details))"
   ]
  },
  {
   "cell_type": "code",
   "execution_count": null,
   "metadata": {},
   "outputs": [],
   "source": [
    "(time (identify-vampire (range 0 1000000)))"
   ]
  },
  {
   "cell_type": "markdown",
   "metadata": {},
   "source": [
    "### Infinite Sequences"
   ]
  },
  {
   "cell_type": "code",
   "execution_count": null,
   "metadata": {},
   "outputs": [],
   "source": [
    "(concat (take 100 (repeat \"na\")) [\"Batman!\"])"
   ]
  },
  {
   "cell_type": "code",
   "execution_count": null,
   "metadata": {},
   "outputs": [],
   "source": [
    "(doc repeatedly)"
   ]
  },
  {
   "cell_type": "code",
   "execution_count": null,
   "metadata": {},
   "outputs": [],
   "source": [
    "(take 3 (repeatedly (fn [] (rand-int 10))))"
   ]
  },
  {
   "cell_type": "code",
   "execution_count": null,
   "metadata": {},
   "outputs": [],
   "source": [
    "(doc lazy-seq)"
   ]
  },
  {
   "cell_type": "code",
   "execution_count": null,
   "metadata": {},
   "outputs": [],
   "source": [
    "(defn even-numbers\n",
    "  ([] (even-numbers 0))\n",
    "  ([n] (cons n (lazy-seq (even-numbers (+ n 2))))))\n",
    "\n",
    "(take 10 (even-numbers))\n",
    "; => (0 2 4 6 8 10 12 14 16 18)"
   ]
  },
  {
   "cell_type": "markdown",
   "metadata": {},
   "source": [
    "## The Collection Abstraction\n",
    "\n",
    "- sequence abstraction is about operating on members individually\n",
    "- collection abstraction is about the data structure as a whole\n",
    "- all core data structures (vectors, maps, lists, sets) take part in both\n",
    "- an example of a seq that is not a collection is an infinte seq"
   ]
  },
  {
   "cell_type": "code",
   "execution_count": null,
   "metadata": {},
   "outputs": [],
   "source": [
    "(empty? [])\n",
    "; => true"
   ]
  },
  {
   "cell_type": "code",
   "execution_count": null,
   "metadata": {},
   "outputs": [],
   "source": [
    "(empty? [\"no!\"])\n",
    "; => false"
   ]
  },
  {
   "cell_type": "markdown",
   "metadata": {},
   "source": [
    "### into"
   ]
  },
  {
   "cell_type": "code",
   "execution_count": null,
   "metadata": {},
   "outputs": [],
   "source": [
    "(map identity {:sunlight-reaction \"Glitter!\"})\n",
    "; => ([:sunlight-reaction \"Glitter!\"])"
   ]
  },
  {
   "cell_type": "code",
   "execution_count": null,
   "metadata": {},
   "outputs": [],
   "source": [
    "(into {} (map identity {:sunlight-reaction \"Glitter!\"}))\n",
    "; => {:sunlight-reaction \"Glitter!\"}"
   ]
  },
  {
   "cell_type": "code",
   "execution_count": null,
   "metadata": {},
   "outputs": [],
   "source": [
    "(map identity [:garlic :sesame-oil :fried-eggs])\n",
    "; => (:garlic :sesame-oil :fried-eggs)"
   ]
  },
  {
   "cell_type": "code",
   "execution_count": null,
   "metadata": {},
   "outputs": [],
   "source": [
    "(into [] (map identity [:garlic :sesame-oil :fried-eggs]))"
   ]
  },
  {
   "cell_type": "code",
   "execution_count": null,
   "metadata": {},
   "outputs": [],
   "source": [
    "(map identity [:garlic-clove :garlic-clove])\n",
    "; => (:garlic-clove :garlic-clove)"
   ]
  },
  {
   "cell_type": "code",
   "execution_count": null,
   "metadata": {},
   "outputs": [],
   "source": [
    "(into #{} (map identity [:garlic-clove :garlic-clove]))\n",
    "; => #{:garlic-clove}"
   ]
  },
  {
   "cell_type": "code",
   "execution_count": null,
   "metadata": {},
   "outputs": [],
   "source": [
    "(into {:favorite-emotion \"gloomy\"} [[:sunlight-reaction \"Glitter!\"]])\n",
    "; => {:favorite-emotion \"gloomy\" :sunlight-reaction \"Glitter!\"}"
   ]
  },
  {
   "cell_type": "code",
   "execution_count": null,
   "metadata": {},
   "outputs": [],
   "source": [
    "(into [\"cherry\"] '(\"pine\" \"spruce\"))\n",
    "; => [\"cherry\" \"pine\" \"spruce\"]"
   ]
  },
  {
   "cell_type": "code",
   "execution_count": null,
   "metadata": {},
   "outputs": [],
   "source": [
    "(pprint\n",
    "    (into {:favorite-animal \"kitty\"} {:least-favorite-smell \"dog\"\n",
    "                                      :relationship-with-teenager \"creepy\"}))\n",
    "; => {:favorite-animal \"kitty\"\n",
    ";     :relationship-with-teenager \"creepy\"\n",
    ";     :least-favorite-smell \"dog\"}"
   ]
  },
  {
   "cell_type": "markdown",
   "metadata": {},
   "source": [
    "### conj"
   ]
  },
  {
   "cell_type": "code",
   "execution_count": null,
   "metadata": {},
   "outputs": [],
   "source": [
    "(conj [0] [1])\n",
    "; => [0 [1]]"
   ]
  },
  {
   "cell_type": "code",
   "execution_count": null,
   "metadata": {},
   "outputs": [],
   "source": [
    "(into [0] [1])\n",
    "; => [0 1]"
   ]
  },
  {
   "cell_type": "code",
   "execution_count": null,
   "metadata": {},
   "outputs": [],
   "source": [
    "(conj [0] 1)\n",
    "; => [0 1]"
   ]
  },
  {
   "cell_type": "code",
   "execution_count": null,
   "metadata": {},
   "outputs": [],
   "source": [
    "(conj [0] 1 2 3 4)\n",
    "; => [0 1 2 3 4]"
   ]
  },
  {
   "cell_type": "code",
   "execution_count": null,
   "metadata": {},
   "outputs": [],
   "source": [
    "(conj {:time \"midnight\"} [:place \"ye olde cemetarium\"])\n",
    "; => {:place \"ye olde cemetarium\" :time \"midnight\"}"
   ]
  },
  {
   "cell_type": "code",
   "execution_count": null,
   "metadata": {},
   "outputs": [],
   "source": [
    "(defn my-conj\n",
    "  [target & additions]\n",
    "  (into target additions))\n",
    "\n",
    "(my-conj [0] 1 2 3)\n",
    "; => [0 1 2 3]"
   ]
  },
  {
   "cell_type": "markdown",
   "metadata": {},
   "source": [
    "#### Note\n",
    "\n",
    "`conj` takes a rest parameter and `into` takes a seq"
   ]
  },
  {
   "cell_type": "markdown",
   "metadata": {},
   "source": [
    "## Function Functions"
   ]
  },
  {
   "cell_type": "markdown",
   "metadata": {},
   "source": [
    "### apply\n",
    "\n",
    "- like a 'splat' operator"
   ]
  },
  {
   "cell_type": "code",
   "execution_count": null,
   "metadata": {},
   "outputs": [],
   "source": [
    "(max 0 1 2)\n",
    "; => 2"
   ]
  },
  {
   "cell_type": "code",
   "execution_count": null,
   "metadata": {},
   "outputs": [],
   "source": [
    "(max [0 1 2])\n",
    "; => [0 1 2]"
   ]
  },
  {
   "cell_type": "code",
   "execution_count": null,
   "metadata": {},
   "outputs": [],
   "source": [
    "; exploding the elements of a collection so that they get passed to a function as separate arguments.\n",
    "(apply max [0 1 2])"
   ]
  },
  {
   "cell_type": "code",
   "execution_count": null,
   "metadata": {},
   "outputs": [],
   "source": [
    "(defn my-into\n",
    "  [target additions]\n",
    "  (apply conj target additions))\n",
    "\n",
    "(my-into [0] [1 2 3])\n",
    "; => [0 1 2 3]"
   ]
  },
  {
   "cell_type": "markdown",
   "metadata": {},
   "source": [
    "### partial\n",
    "\n",
    "- partially applied function"
   ]
  },
  {
   "cell_type": "code",
   "execution_count": null,
   "metadata": {},
   "outputs": [],
   "source": [
    "(def add10 (partial + 10))\n",
    "(add10 3) \n",
    "; => 13"
   ]
  },
  {
   "cell_type": "code",
   "execution_count": null,
   "metadata": {},
   "outputs": [],
   "source": [
    "(add10 5)\n",
    "; => 15"
   ]
  },
  {
   "cell_type": "code",
   "execution_count": null,
   "metadata": {},
   "outputs": [],
   "source": [
    "(def add-missing-elements\n",
    "  (partial conj [\"water\" \"earth\" \"air\"]))\n",
    "\n",
    "(add-missing-elements \"unobtainium\" \"adamantium\")\n",
    "; => [\"water\" \"earth\" \"air\" \"unobtainium\" \"adamantium\"]"
   ]
  },
  {
   "cell_type": "code",
   "execution_count": null,
   "metadata": {},
   "outputs": [],
   "source": [
    "(defn my-partial\n",
    "  [partialized-fn & args]\n",
    "  (fn [& more-args]\n",
    "    (apply partialized-fn (into args more-args))))\n",
    "\n",
    "(def add20 (my-partial + 20))\n",
    "(add20 3) \n",
    "; => 23"
   ]
  },
  {
   "cell_type": "code",
   "execution_count": null,
   "metadata": {},
   "outputs": [],
   "source": [
    "(defn lousy-logger\n",
    "  [log-level message]\n",
    "  (condp = log-level\n",
    "    :warn (clojure.string/lower-case message)\n",
    "    :emergency (clojure.string/upper-case message)))\n",
    "\n",
    "(def warn (partial lousy-logger :warn))\n",
    "\n",
    "(warn \"Red light ahead\")\n",
    "; => \"red light ahead\""
   ]
  },
  {
   "cell_type": "markdown",
   "metadata": {},
   "source": [
    "### complement"
   ]
  },
  {
   "cell_type": "code",
   "execution_count": null,
   "metadata": {},
   "outputs": [],
   "source": [
    "(defn identify-humans\n",
    "  [social-security-numbers]\n",
    "  (filter #(not (vampire? %))\n",
    "          (map vampire-related-details social-security-numbers)))"
   ]
  },
  {
   "cell_type": "code",
   "execution_count": null,
   "metadata": {},
   "outputs": [],
   "source": [
    "(def not-vampire? (complement vampire?))\n",
    "(defn identify-humans\n",
    "  [social-security-numbers]\n",
    "  (filter not-vampire?\n",
    "          (map vampire-related-details social-security-numbers)))"
   ]
  },
  {
   "cell_type": "code",
   "execution_count": null,
   "metadata": {},
   "outputs": [],
   "source": [
    "(defn my-complement\n",
    "  [fun]\n",
    "  (fn [& args]\n",
    "    (not (apply fun args))))\n",
    "\n",
    "(def my-pos? (complement neg?))\n",
    "(my-pos? 1)  \n",
    "; => true"
   ]
  },
  {
   "cell_type": "code",
   "execution_count": null,
   "metadata": {},
   "outputs": [],
   "source": [
    "(my-pos? -1) \n",
    "; => false"
   ]
  },
  {
   "cell_type": "code",
   "execution_count": null,
   "metadata": {},
   "outputs": [],
   "source": []
  }
 ],
 "metadata": {
  "kernelspec": {
   "display_name": "Clojure",
   "language": "clojure",
   "name": "clojure"
  },
  "language_info": {
   "file_extension": ".clj",
   "mimetype": "text/x-clojure",
   "name": "clojure",
   "version": "1.8.0"
  }
 },
 "nbformat": 4,
 "nbformat_minor": 2
}
