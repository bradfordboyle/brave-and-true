{
 "cells": [
  {
   "cell_type": "code",
   "execution_count": 1,
   "metadata": {},
   "outputs": [
    {
     "name": "stdout",
     "output_type": "stream",
     "text": [
      "\u001b[36mRun `(doc midje)` for Midje usage.\u001b[0m\n",
      "\u001b[36mRun `(doc midje-repl)` for descriptions of Midje repl functions.\u001b[0m\n"
     ]
    }
   ],
   "source": [
    "(require '[clojupyter.misc.helper :as helper])\n",
    "(helper/add-dependencies '[midje \"1.9.1\"])\n",
    "(use 'clojure.pprint)\n",
    "(use 'clojure.repl)\n",
    "(use 'midje.repl)"
   ]
  },
  {
   "cell_type": "markdown",
   "metadata": {},
   "source": [
    "# Functional Programming (cont.)\n",
    "\n",
    "## Cool Things to Do with Pure Functions\n",
    "\n",
    "### Composition - `comp`"
   ]
  },
  {
   "cell_type": "code",
   "execution_count": 2,
   "metadata": {},
   "outputs": [
    {
     "data": {
      "text/plain": [
       "true"
      ]
     },
     "execution_count": 2,
     "metadata": {},
     "output_type": "execute_result"
    }
   ],
   "source": [
    "(facts \"about `comp`\"\n",
    "       (fact ((comp inc *) 2 3) => (inc (* 2 3))))"
   ]
  },
  {
   "cell_type": "code",
   "execution_count": 3,
   "metadata": {},
   "outputs": [
    {
     "data": {
      "text/plain": [
       "true"
      ]
     },
     "execution_count": 3,
     "metadata": {},
     "output_type": "execute_result"
    }
   ],
   "source": [
    "(def character\n",
    "    {:name \"Smooches McCutes\"\n",
    "     :attributes {:intelligence 10\n",
    "                  :strength 4\n",
    "                  :dexterity 5}})\n",
    "\n",
    "(def c-int (comp :intelligence :attributes))\n",
    "(def c-str (comp :strength :attributes))\n",
    "(def c-dex (comp :dexterity :attributes))\n",
    "\n",
    "(facts \"about character\"\n",
    "       (fact (c-int character) => 10)\n",
    "       (fact (c-str character) => 4)\n",
    "       (fact (c-dex character) => 5))\n",
    "\n",
    "(def m-int (fn [c] (:intelligence (:attributes c))))\n",
    "(def m-str (fn [c] (:strength (:attributes c))))\n",
    "(def m-dex (fn [c] (:dexterity (:attributes c))))\n",
    "\n",
    "(facts \"about character\"\n",
    "       (fact (m-int character) => 10)\n",
    "       (fact (m-str character) => 4)\n",
    "       (fact (m-dex character) => 5))"
   ]
  },
  {
   "cell_type": "code",
   "execution_count": 4,
   "metadata": {},
   "outputs": [
    {
     "data": {
      "text/plain": [
       "true"
      ]
     },
     "execution_count": 4,
     "metadata": {},
     "output_type": "execute_result"
    }
   ],
   "source": [
    "(defn spell-slots\n",
    "    \"calculates the number of spell slots your character has based on her intelligence attribute\"\n",
    "    [char]\n",
    "    (int (inc (/ (c-int char) 2))))\n",
    "\n",
    "(fact (spell-slots character) => 6)"
   ]
  },
  {
   "cell_type": "code",
   "execution_count": 5,
   "metadata": {},
   "outputs": [
    {
     "data": {
      "text/plain": [
       "true"
      ]
     },
     "execution_count": 5,
     "metadata": {},
     "output_type": "execute_result"
    }
   ],
   "source": [
    "; to use a two argument function w/ comp, wrap it in an anonymous function\n",
    "(def spell-slots-comp (comp int inc #(/ % 2) c-int))\n",
    "(fact (spell-slots-comp character) => 6)"
   ]
  },
  {
   "cell_type": "code",
   "execution_count": 6,
   "metadata": {},
   "outputs": [
    {
     "data": {
      "text/plain": [
       "true"
      ]
     },
     "execution_count": 6,
     "metadata": {},
     "output_type": "execute_result"
    }
   ],
   "source": [
    "(defn two-comp\n",
    "    [f g]\n",
    "    (fn [& args]\n",
    "        (f (apply g args))))\n",
    "\n",
    "(fact ((two-comp inc *) 2 3) => 7)"
   ]
  },
  {
   "cell_type": "code",
   "execution_count": 7,
   "metadata": {},
   "outputs": [
    {
     "data": {
      "text/plain": [
       "true"
      ]
     },
     "execution_count": 7,
     "metadata": {},
     "output_type": "execute_result"
    }
   ],
   "source": [
    "(defn chain\n",
    "    \"simple function for composing two functions\"\n",
    "    [f g]\n",
    "    (fn [& args]\n",
    "        (f (apply g args))))\n",
    "\n",
    "(defn my-comp\n",
    "    \"compose a collection of functions together\"\n",
    "    [& fs]\n",
    "    (reduce chain identity fs))\n",
    "\n",
    "(facts\n",
    "    (fact ((comp rest reverse) [1 2 3 4]) => [3 2 1])\n",
    "    (fact ((my-comp rest reverse) [1 2 3 4]) => [3 2 1])\n",
    "    (fact ((my-comp (partial + 3) second) [1 2 3 4]) => 5)\n",
    "    (fact ((my-comp zero? #(mod % 8) +) 3 5 7 9) => true)\n",
    "    (fact ((my-comp #(.toUpperCase %) #(apply str %) take) 5 \"hello world\") => \"HELLO\"))"
   ]
  },
  {
   "cell_type": "markdown",
   "metadata": {},
   "source": [
    "### Memoization - `memoize`"
   ]
  },
  {
   "cell_type": "code",
   "execution_count": 8,
   "metadata": {},
   "outputs": [
    {
     "name": "stdout",
     "output_type": "stream",
     "text": [
      "\"Elapsed time: 1003.345562 msecs\"\n"
     ]
    },
    {
     "data": {
      "text/plain": [
       "\"Mr. Fantastico\""
      ]
     },
     "execution_count": 8,
     "metadata": {},
     "output_type": "execute_result"
    }
   ],
   "source": [
    "(defn sleepy-identity\n",
    "    \"Returns the given value after 1 second\"\n",
    "    [x]\n",
    "    (Thread/sleep 1000)\n",
    "    x)\n",
    "\n",
    "(time (sleepy-identity \"Mr. Fantastico\"))"
   ]
  },
  {
   "cell_type": "code",
   "execution_count": 9,
   "metadata": {},
   "outputs": [
    {
     "name": "stdout",
     "output_type": "stream",
     "text": [
      "\"Elapsed time: 1004.080673 msecs\"\n"
     ]
    },
    {
     "data": {
      "text/plain": [
       "\"Mr. Fantastico\""
      ]
     },
     "execution_count": 9,
     "metadata": {},
     "output_type": "execute_result"
    }
   ],
   "source": [
    "(time (sleepy-identity \"Mr. Fantastico\"))"
   ]
  },
  {
   "cell_type": "code",
   "execution_count": 10,
   "metadata": {},
   "outputs": [
    {
     "name": "stdout",
     "output_type": "stream",
     "text": [
      "\"Elapsed time: 1004.643172 msecs\"\n"
     ]
    },
    {
     "data": {
      "text/plain": [
       "\"Mr. Fantastico\""
      ]
     },
     "execution_count": 10,
     "metadata": {},
     "output_type": "execute_result"
    }
   ],
   "source": [
    "(def memo-sleepy-identity (memoize sleepy-identity))\n",
    "(time (memo-sleepy-identity \"Mr. Fantastico\"))"
   ]
  },
  {
   "cell_type": "code",
   "execution_count": 11,
   "metadata": {},
   "outputs": [
    {
     "name": "stdout",
     "output_type": "stream",
     "text": [
      "\"Elapsed time: 0.06724 msecs\"\n"
     ]
    },
    {
     "data": {
      "text/plain": [
       "\"Mr. Fantastico\""
      ]
     },
     "execution_count": 11,
     "metadata": {},
     "output_type": "execute_result"
    }
   ],
   "source": [
    "(time (memo-sleepy-identity \"Mr. Fantastico\"))"
   ]
  },
  {
   "cell_type": "markdown",
   "metadata": {},
   "source": [
    "## Peg Thing\n",
    "\n",
    "1. `connect-right` - if a number `n` is a triangular number, then it is on the right boundary. if `pos` or `neighbor` are triangular numbers, then you cannot make a move to the right.\n",
    "2. `connect-down-left` &amp; `connect-down-right` - down-diagonal moves can only every violate the bottom boundary and this is checked in the call to `connect`.\n",
    "\n",
    "Reducing can be used over a collection of either data _or functions_"
   ]
  },
  {
   "cell_type": "code",
   "execution_count": 12,
   "metadata": {},
   "outputs": [
    {
     "data": {
      "text/plain": [
       "true"
      ]
     },
     "execution_count": 12,
     "metadata": {},
     "output_type": "execute_result"
    }
   ],
   "source": [
    "(require '[clojure.string :as s])\n",
    "(defn clean-reduce\n",
    "    [text]\n",
    "    (reduce (fn [string string-fn] (string-fn string))\n",
    "            text\n",
    "            [s/trim #(s/replace % #\"lol\" \"LOL\")]))\n",
    "\n",
    "(defn clean-comp\n",
    "    [text]\n",
    "    ((comp s/trim #(s/replace % #\"lol\" \"LOL\")) text))\n",
    "\n",
    "(facts \"about cleaning text\"\n",
    "       (fact (clean-reduce \"My boa constrictor is so sassy lol!  \") => \"My boa constrictor is so sassy LOL!\")\n",
    "       (fact (clean-comp \"My boa constrictor is so sassy lol!  \") => \"My boa constrictor is so sassy LOL!\"))"
   ]
  },
  {
   "cell_type": "markdown",
   "metadata": {},
   "source": [
    "3. `new-board` - because we only try connecting right, down-left, &amp; down-right this function does not create duplicate connections\n",
    "4. `remove-peg`, `place-peg`, &amp; `move-peg` do not do bounds checks\n",
    "5. `pegged?` might return `nil`"
   ]
  },
  {
   "cell_type": "code",
   "execution_count": 13,
   "metadata": {},
   "outputs": [
    {
     "name": "stdout",
     "output_type": "stream",
     "text": [
      "1\n",
      "2\n",
      "3\n",
      "4\n",
      "5\n",
      "6\n",
      "7\n",
      "8\n",
      "9\n",
      "10\n"
     ]
    }
   ],
   "source": [
    "; use `do-seq` to have a side-effect\n",
    "(doseq [i (range 1 (inc 10))]\n",
    "        (pprint i))"
   ]
  }
 ],
 "metadata": {
  "kernelspec": {
   "display_name": "Clojure",
   "language": "clojure",
   "name": "clojure"
  },
  "language_info": {
   "file_extension": ".clj",
   "mimetype": "text/x-clojure",
   "name": "clojure",
   "version": "1.8.0"
  }
 },
 "nbformat": 4,
 "nbformat_minor": 2
}
